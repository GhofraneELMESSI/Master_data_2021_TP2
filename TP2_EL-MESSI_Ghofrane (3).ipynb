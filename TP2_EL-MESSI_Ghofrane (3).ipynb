{
 "cells": [
  {
   "cell_type": "markdown",
   "id": "d65830bb",
   "metadata": {},
   "source": [
    "# Atelier 2 : Apprentissage supervisé avec Python -- Ghofrane EL MESSI"
   ]
  },
  {
   "cell_type": "code",
   "execution_count": 95,
   "id": "543a5a97",
   "metadata": {},
   "outputs": [],
   "source": [
    "import numpy as np \n",
    "\n",
    "import pandas as pd\n",
    "import warnings\n",
    "import matplotlib.pyplot as plt \n",
    "warnings.filterwarnings('ignore')\n",
    "from sklearn.model_selection import train_test_split\n",
    "from sklearn.tree import DecisionTreeClassifier\n",
    "from sklearn.neighbors import KNeighborsClassifier\n",
    "from sklearn.metrics import confusion_matrix,accuracy_score,precision_score,recall_score\n",
    "from sklearn.preprocessing import StandardScaler, MinMaxScaler\n",
    "from sklearn.decomposition import PCA\n",
    "from sklearn.ensemble import BaggingClassifier\n",
    "import matplotlib.pyplot as plt\n",
    "import seaborn as sn\n",
    "from sklearn.neural_network import MLPClassifier\n",
    "from sklearn.model_selection import GridSearchCV\n",
    "from sklearn.pipeline import Pipeline\n",
    "from sklearn.pipeline import FeatureUnion \n",
    "import pickle\n",
    "\n",
    "from sklearn.naive_bayes import GaussianNB\n",
    "from sklearn.ensemble import AdaBoostClassifier, BaggingClassifier, RandomForestClassifier\n",
    "from sklearn.ensemble import RandomForestClassifier\n",
    "from sklearn.model_selection import KFold\n",
    "from sklearn.model_selection import cross_val_score\n",
    "from sklearn.metrics import roc_auc_score, precision_score, accuracy_score, cohen_kappa_score, make_scorer\n",
    "import time\n",
    "\n",
    "from sklearn.impute import SimpleImputer\n",
    "from sklearn.preprocessing import OneHotEncoder\n",
    "\n",
    "\n",
    "from sklearn.feature_extraction.text import CountVectorizer\n",
    "from sklearn.feature_extraction.text import TfidfVectorizer\n",
    "from sklearn.decomposition import TruncatedSVD"
   ]
  },
  {
   "cell_type": "markdown",
   "id": "f9503126",
   "metadata": {},
   "source": [
    "## I. Apprentissage supervisé : Feature engineering et Classification"
   ]
  },
  {
   "cell_type": "markdown",
   "id": "e3da7738",
   "metadata": {},
   "source": [
    "### 1- Chargement des données et préparation :"
   ]
  },
  {
   "cell_type": "code",
   "execution_count": 5,
   "id": "98a751a5",
   "metadata": {},
   "outputs": [],
   "source": [
    "#importer les données\n",
    "credit=pd.read_csv(r\"C:\\Users\\ghofr\\OneDrive\\Bureau\\TP-AS\\TP AS\\credit_scoring.csv\",sep=\";\",header=0)"
   ]
  },
  {
   "cell_type": "code",
   "execution_count": 6,
   "id": "f581e222",
   "metadata": {},
   "outputs": [
    {
     "data": {
      "text/html": [
       "<div>\n",
       "<style scoped>\n",
       "    .dataframe tbody tr th:only-of-type {\n",
       "        vertical-align: middle;\n",
       "    }\n",
       "\n",
       "    .dataframe tbody tr th {\n",
       "        vertical-align: top;\n",
       "    }\n",
       "\n",
       "    .dataframe thead th {\n",
       "        text-align: right;\n",
       "    }\n",
       "</style>\n",
       "<table border=\"1\" class=\"dataframe\">\n",
       "  <thead>\n",
       "    <tr style=\"text-align: right;\">\n",
       "      <th></th>\n",
       "      <th>Seniority</th>\n",
       "      <th>Home</th>\n",
       "      <th>Time</th>\n",
       "      <th>Age</th>\n",
       "      <th>Marital</th>\n",
       "      <th>Records</th>\n",
       "      <th>Job</th>\n",
       "      <th>Expenses</th>\n",
       "      <th>Income</th>\n",
       "      <th>Assets</th>\n",
       "      <th>Debt</th>\n",
       "      <th>Amount</th>\n",
       "      <th>Price</th>\n",
       "      <th>Status</th>\n",
       "    </tr>\n",
       "  </thead>\n",
       "  <tbody>\n",
       "    <tr>\n",
       "      <th>0</th>\n",
       "      <td>9.0</td>\n",
       "      <td>1.0</td>\n",
       "      <td>60.0</td>\n",
       "      <td>30.0</td>\n",
       "      <td>0.0</td>\n",
       "      <td>1.0</td>\n",
       "      <td>1.0</td>\n",
       "      <td>73.0</td>\n",
       "      <td>129.0</td>\n",
       "      <td>0.0</td>\n",
       "      <td>0.0</td>\n",
       "      <td>800.0</td>\n",
       "      <td>846.0</td>\n",
       "      <td>1</td>\n",
       "    </tr>\n",
       "    <tr>\n",
       "      <th>1</th>\n",
       "      <td>17.0</td>\n",
       "      <td>1.0</td>\n",
       "      <td>60.0</td>\n",
       "      <td>58.0</td>\n",
       "      <td>1.0</td>\n",
       "      <td>1.0</td>\n",
       "      <td>0.0</td>\n",
       "      <td>48.0</td>\n",
       "      <td>131.0</td>\n",
       "      <td>0.0</td>\n",
       "      <td>0.0</td>\n",
       "      <td>1000.0</td>\n",
       "      <td>1658.0</td>\n",
       "      <td>1</td>\n",
       "    </tr>\n",
       "    <tr>\n",
       "      <th>2</th>\n",
       "      <td>10.0</td>\n",
       "      <td>0.0</td>\n",
       "      <td>36.0</td>\n",
       "      <td>46.0</td>\n",
       "      <td>0.0</td>\n",
       "      <td>2.0</td>\n",
       "      <td>1.0</td>\n",
       "      <td>90.0</td>\n",
       "      <td>200.0</td>\n",
       "      <td>3000.0</td>\n",
       "      <td>0.0</td>\n",
       "      <td>2000.0</td>\n",
       "      <td>2985.0</td>\n",
       "      <td>0</td>\n",
       "    </tr>\n",
       "    <tr>\n",
       "      <th>3</th>\n",
       "      <td>0.0</td>\n",
       "      <td>1.0</td>\n",
       "      <td>60.0</td>\n",
       "      <td>24.0</td>\n",
       "      <td>1.0</td>\n",
       "      <td>1.0</td>\n",
       "      <td>0.0</td>\n",
       "      <td>63.0</td>\n",
       "      <td>182.0</td>\n",
       "      <td>2500.0</td>\n",
       "      <td>0.0</td>\n",
       "      <td>900.0</td>\n",
       "      <td>1325.0</td>\n",
       "      <td>1</td>\n",
       "    </tr>\n",
       "    <tr>\n",
       "      <th>4</th>\n",
       "      <td>0.0</td>\n",
       "      <td>1.0</td>\n",
       "      <td>36.0</td>\n",
       "      <td>26.0</td>\n",
       "      <td>1.0</td>\n",
       "      <td>1.0</td>\n",
       "      <td>0.0</td>\n",
       "      <td>46.0</td>\n",
       "      <td>107.0</td>\n",
       "      <td>0.0</td>\n",
       "      <td>0.0</td>\n",
       "      <td>310.0</td>\n",
       "      <td>910.0</td>\n",
       "      <td>1</td>\n",
       "    </tr>\n",
       "  </tbody>\n",
       "</table>\n",
       "</div>"
      ],
      "text/plain": [
       "   Seniority  Home  Time   Age  Marital  Records  Job  Expenses  Income  \\\n",
       "0        9.0   1.0  60.0  30.0      0.0      1.0  1.0      73.0   129.0   \n",
       "1       17.0   1.0  60.0  58.0      1.0      1.0  0.0      48.0   131.0   \n",
       "2       10.0   0.0  36.0  46.0      0.0      2.0  1.0      90.0   200.0   \n",
       "3        0.0   1.0  60.0  24.0      1.0      1.0  0.0      63.0   182.0   \n",
       "4        0.0   1.0  36.0  26.0      1.0      1.0  0.0      46.0   107.0   \n",
       "\n",
       "   Assets  Debt  Amount   Price  Status  \n",
       "0     0.0   0.0   800.0   846.0       1  \n",
       "1     0.0   0.0  1000.0  1658.0       1  \n",
       "2  3000.0   0.0  2000.0  2985.0       0  \n",
       "3  2500.0   0.0   900.0  1325.0       1  \n",
       "4     0.0   0.0   310.0   910.0       1  "
      ]
     },
     "execution_count": 6,
     "metadata": {},
     "output_type": "execute_result"
    }
   ],
   "source": [
    "credit.head()"
   ]
  },
  {
   "cell_type": "code",
   "execution_count": 7,
   "id": "a49463c5",
   "metadata": {},
   "outputs": [
    {
     "data": {
      "text/plain": [
       "(4375, 14)"
      ]
     },
     "execution_count": 7,
     "metadata": {},
     "output_type": "execute_result"
    }
   ],
   "source": [
    "credit.shape"
   ]
  },
  {
   "cell_type": "code",
   "execution_count": 8,
   "id": "ca2cfb1a",
   "metadata": {},
   "outputs": [
    {
     "data": {
      "text/plain": [
       "<AxesSubplot:>"
      ]
     },
     "execution_count": 8,
     "metadata": {},
     "output_type": "execute_result"
    },
    {
     "data": {
      "image/png": "[encoded data removed]",
      "text/plain": [
       "<Figure size 432x288 with 1 Axes>"
      ]
     },
     "metadata": {
      "needs_background": "light"
     },
     "output_type": "display_data"
    }
   ],
   "source": [
    "credit['Status'].hist(bins=2)"
   ]
  },
  {
   "cell_type": "code",
   "execution_count": 9,
   "id": "2b4dc84e",
   "metadata": {},
   "outputs": [],
   "source": [
    "X=credit.iloc[:,:13].values\n",
    "Y=credit.iloc[:,13].values"
   ]
  },
  {
   "cell_type": "code",
   "execution_count": 10,
   "id": "0af6418f",
   "metadata": {},
   "outputs": [
    {
     "name": "stdout",
     "output_type": "stream",
     "text": [
      "La taille de X :  (4375, 13)\n",
      "La taille de Y :  (4375,)\n"
     ]
    }
   ],
   "source": [
    "print(\"La taille de X : \", X.shape)\n",
    "print(\"La taille de Y : \", Y.shape)"
   ]
  },
  {
   "cell_type": "code",
   "execution_count": 11,
   "id": "90a58c02",
   "metadata": {},
   "outputs": [],
   "source": [
    "#séparation des données en données d'apprentissage et données de test\n",
    "Xtrain,Xtest,Ytrain,Ytest=train_test_split(X,Y,test_size=0.5,random_state=1) "
   ]
  },
  {
   "cell_type": "markdown",
   "id": "2e8eab81",
   "metadata": {},
   "source": [
    "### 2- Apprentissage et évaluation de modèles :"
   ]
  },
  {
   "cell_type": "code",
   "execution_count": 12,
   "id": "8afad414",
   "metadata": {},
   "outputs": [],
   "source": [
    "def evaluation_classification(model, Xtrain,Xtest,Ytrain,Ytest):\n",
    "    model.fit(Xtrain,Ytrain)\n",
    "    Y_predict=model.predict(Xtest)\n",
    "    print(\"Precision : \", precision_score(Ytest,Y_predict))\n",
    "    print(\"Rappel : \", recall_score(Ytest,Y_predict))\n",
    "    print(\"Accuracy : \", accuracy_score(Ytest,Y_predict))\n",
    "    print(\"Matrice de confusion : \\n\")\n",
    "    print(confusion_matrix(Ytest,Y_predict))"
   ]
  },
  {
   "cell_type": "markdown",
   "id": "25c1233d",
   "metadata": {},
   "source": [
    "### Un arbre CART (random_state=1)"
   ]
  },
  {
   "cell_type": "code",
   "execution_count": 13,
   "id": "8357f15d",
   "metadata": {},
   "outputs": [
    {
     "name": "stdout",
     "output_type": "stream",
     "text": [
      "Precision :  0.8194174757281554\n",
      "Rappel :  0.7992424242424242\n",
      "Accuracy :  0.7271480804387569\n",
      "Matrice de confusion : \n",
      "\n",
      "[[ 325  279]\n",
      " [ 318 1266]]\n"
     ]
    }
   ],
   "source": [
    "DT = DecisionTreeClassifier(random_state=1)\n",
    "evaluation_classification(DT, Xtrain,Xtest,Ytrain,Ytest)"
   ]
  },
  {
   "cell_type": "markdown",
   "id": "3d76df09",
   "metadata": {},
   "source": [
    "### k-plus-proches-voisins avec k=5"
   ]
  },
  {
   "cell_type": "code",
   "execution_count": 14,
   "id": "87a38fa9",
   "metadata": {},
   "outputs": [
    {
     "name": "stdout",
     "output_type": "stream",
     "text": [
      "Precision :  0.7709713024282561\n",
      "Rappel :  0.8819444444444444\n",
      "Accuracy :  0.7248628884826326\n",
      "Matrice de confusion : \n",
      "\n",
      "[[ 189  415]\n",
      " [ 187 1397]]\n"
     ]
    }
   ],
   "source": [
    "KNN = KNeighborsClassifier(n_neighbors=5)\n",
    "evaluation_classification(KNN, Xtrain,Xtest,Ytrain,Ytest)"
   ]
  },
  {
   "cell_type": "markdown",
   "id": "5b15863e",
   "metadata": {},
   "source": [
    "### MultilayerPerceptron à deux couches de tailles respectives 40 et 20 et random_state=1"
   ]
  },
  {
   "cell_type": "code",
   "execution_count": 15,
   "id": "971899f7",
   "metadata": {},
   "outputs": [
    {
     "name": "stdout",
     "output_type": "stream",
     "text": [
      "Precision :  0.8133159268929504\n",
      "Rappel :  0.7866161616161617\n",
      "Accuracy :  0.7148080438756855\n",
      "Matrice de confusion : \n",
      "\n",
      "[[ 318  286]\n",
      " [ 338 1246]]\n"
     ]
    }
   ],
   "source": [
    "MLP = MLPClassifier(hidden_layer_sizes = (40,20), random_state = 1)\n",
    "evaluation_classification(MLP, Xtrain,Xtest,Ytrain,Ytest)"
   ]
  },
  {
   "cell_type": "markdown",
   "id": "aaf0b5bd",
   "metadata": {},
   "source": [
    "### Choix meilleur critère entre le Rappel et la Précision "
   ]
  },
  {
   "cell_type": "markdown",
   "id": "a2a81b42",
   "metadata": {},
   "source": [
    "Il est plus judicieux d'utiliser la précision lorsque le risque d'un faux positif est élevé alors que le rappel est plus judicieux lorsque le risque d'un faux négatif est élevé (exemple utilisation dans le médical pour la détection de maladie).\n",
    "\n",
    "Dans notre cas, on cherche à prédir la variable Y qui désigne si on doit accorder le crédit à un individu. Un faux positif dans notre cas veut dire qu'on accordera un crédit à une personne qui à un risque élevé de ne pas le payer. Tandis qu'un faux négatif veut dire qu'on réfusera d'accorder un crédit à une personne de faible risque. \n",
    "\n",
    "En effet dans notre cas, le choix de la meuilleur métrique entre rappel et précision dépend de la politique de la banque en question ainsi que la nature du crédit ( crédit immobilier,crédit à long terme...).\n",
    "\n",
    "Dans notre cas, on va choisir la précision comme métrique d'évaluation en supposant que le risque d'un faux positif est plus elevé qu'un faux négatif. Cependant, on peut aussi utiliser un F1 score qui permettra de moyenner les deux effets.\n",
    "\n"
   ]
  },
  {
   "cell_type": "markdown",
   "id": "153a3cee",
   "metadata": {},
   "source": [
    "### 2- Normalisation des variables continues :"
   ]
  },
  {
   "cell_type": "markdown",
   "id": "05d0d01d",
   "metadata": {},
   "source": [
    "#### StandardScaler"
   ]
  },
  {
   "cell_type": "code",
   "execution_count": 16,
   "id": "78f15e6d",
   "metadata": {},
   "outputs": [],
   "source": [
    "N=StandardScaler()\n",
    "N.fit(Xtrain)\n",
    "Xtrain_normalise=N.transform(Xtrain)\n",
    "Xtest_normalise=N.transform(Xtest)"
   ]
  },
  {
   "cell_type": "markdown",
   "id": "0c6f7feb",
   "metadata": {},
   "source": [
    "#### DecisionTree"
   ]
  },
  {
   "cell_type": "code",
   "execution_count": 17,
   "id": "6b20aae7",
   "metadata": {},
   "outputs": [
    {
     "name": "stdout",
     "output_type": "stream",
     "text": [
      "Precision :  0.8181818181818182\n",
      "Rappel :  0.8011363636363636\n",
      "Accuracy :  0.7271480804387569\n",
      "Matrice de confusion : \n",
      "\n",
      "[[ 322  282]\n",
      " [ 315 1269]]\n"
     ]
    }
   ],
   "source": [
    "DT = DecisionTreeClassifier(random_state=1)\n",
    "evaluation_classification(DT, Xtrain_normalise,Xtest_normalise,Ytrain,Ytest)"
   ]
  },
  {
   "cell_type": "markdown",
   "id": "d9843d39",
   "metadata": {},
   "source": [
    "#### KNN"
   ]
  },
  {
   "cell_type": "code",
   "execution_count": 18,
   "id": "d235b8b3",
   "metadata": {},
   "outputs": [
    {
     "name": "stdout",
     "output_type": "stream",
     "text": [
      "Precision :  0.8106015485407981\n",
      "Rappel :  0.8592171717171717\n",
      "Accuracy :  0.7527422303473492\n",
      "Matrice de confusion : \n",
      "\n",
      "[[ 286  318]\n",
      " [ 223 1361]]\n"
     ]
    }
   ],
   "source": [
    "KNN = KNeighborsClassifier(n_neighbors=5)\n",
    "evaluation_classification(KNN, Xtrain_normalise,Xtest_normalise,Ytrain,Ytest)"
   ]
  },
  {
   "cell_type": "markdown",
   "id": "d4153547",
   "metadata": {},
   "source": [
    "#### MLP"
   ]
  },
  {
   "cell_type": "code",
   "execution_count": 19,
   "id": "4b955c97",
   "metadata": {},
   "outputs": [
    {
     "name": "stdout",
     "output_type": "stream",
     "text": [
      "Precision :  0.8381717109326745\n",
      "Rappel :  0.8566919191919192\n",
      "Accuracy :  0.776508226691042\n",
      "Matrice de confusion : \n",
      "\n",
      "[[ 342  262]\n",
      " [ 227 1357]]\n"
     ]
    }
   ],
   "source": [
    "MLP = MLPClassifier(hidden_layer_sizes = (40,20), random_state = 1)\n",
    "evaluation_classification(MLP,Xtrain_normalise,Xtest_normalise,Ytrain,Ytest)"
   ]
  },
  {
   "cell_type": "markdown",
   "id": "aaa56436",
   "metadata": {},
   "source": [
    "#### MinMax scaler"
   ]
  },
  {
   "cell_type": "code",
   "execution_count": 20,
   "id": "a19020bc",
   "metadata": {},
   "outputs": [],
   "source": [
    "Nminmax=MinMaxScaler()\n",
    "Nminmax.fit(Xtrain)\n",
    "Xtrain_min_max=Nminmax.transform(Xtrain)\n",
    "Xtest_min_max=Nminmax.transform(Xtest)\n"
   ]
  },
  {
   "cell_type": "markdown",
   "id": "5850cd72",
   "metadata": {},
   "source": [
    "#### DecisionTree"
   ]
  },
  {
   "cell_type": "code",
   "execution_count": 21,
   "id": "25180919",
   "metadata": {},
   "outputs": [
    {
     "name": "stdout",
     "output_type": "stream",
     "text": [
      "Precision :  0.8197674418604651\n",
      "Rappel :  0.8011363636363636\n",
      "Accuracy :  0.7285191956124314\n",
      "Matrice de confusion : \n",
      "\n",
      "[[ 325  279]\n",
      " [ 315 1269]]\n"
     ]
    }
   ],
   "source": [
    "evaluation_classification(DT,Xtrain_min_max,Xtest_min_max,Ytrain,Ytest)"
   ]
  },
  {
   "cell_type": "markdown",
   "id": "54427a82",
   "metadata": {},
   "source": [
    "#### KNN"
   ]
  },
  {
   "cell_type": "code",
   "execution_count": 22,
   "id": "16004269",
   "metadata": {},
   "outputs": [
    {
     "name": "stdout",
     "output_type": "stream",
     "text": [
      "Precision :  0.8076692630317556\n",
      "Rappel :  0.851010101010101\n",
      "Accuracy :  0.7454296160877514\n",
      "Matrice de confusion : \n",
      "\n",
      "[[ 283  321]\n",
      " [ 236 1348]]\n"
     ]
    }
   ],
   "source": [
    "evaluation_classification(KNN,Xtrain_min_max,Xtest_min_max,Ytrain,Ytest)"
   ]
  },
  {
   "cell_type": "markdown",
   "id": "40d57803",
   "metadata": {},
   "source": [
    "#### MLP"
   ]
  },
  {
   "cell_type": "code",
   "execution_count": 23,
   "id": "b4ea54dd",
   "metadata": {},
   "outputs": [
    {
     "name": "stdout",
     "output_type": "stream",
     "text": [
      "Precision :  0.832345971563981\n",
      "Rappel :  0.8869949494949495\n",
      "Accuracy :  0.7888482632541134\n",
      "Matrice de confusion : \n",
      "\n",
      "[[ 321  283]\n",
      " [ 179 1405]]\n"
     ]
    }
   ],
   "source": [
    "evaluation_classification(MLP,Xtrain_min_max,Xtest_min_max,Ytrain,Ytest)"
   ]
  },
  {
   "cell_type": "markdown",
   "id": "2fe76b6f",
   "metadata": {},
   "source": [
    "Conclusion:\n",
    "\n",
    "La normalisation semble améliorer toutes les métriques pour l'arbre de décision. Pour les autres modèles, toutes les métriques sauf le rappel sont améliorés. \n",
    "\n",
    "Il n y a pas de grandes différences entre les deux mèthodes de normalisation.\n",
    "\n",
    "Normalisation améliore globalement les performances des modèles."
   ]
  },
  {
   "cell_type": "markdown",
   "id": "6587d160",
   "metadata": {},
   "source": [
    "### 3- Création de nouvelles variables caractéristiques par combinaisons linéaires des variables initiales :"
   ]
  },
  {
   "cell_type": "code",
   "execution_count": 24,
   "id": "f993940a",
   "metadata": {},
   "outputs": [
    {
     "name": "stdout",
     "output_type": "stream",
     "text": [
      "Arbre de décision :\n",
      "Precision :  0.8113810741687979\n",
      "Rappel :  0.8011363636363636\n",
      "Accuracy :  0.7212065813528337\n",
      "Matrice de confusion : \n",
      "\n",
      "[[ 309  295]\n",
      " [ 315 1269]]\n",
      ".........................\n",
      "KNN :\n",
      "Precision :  0.8088757396449704\n",
      "Rappel :  0.8630050505050505\n",
      "Accuracy :  0.753199268738574\n",
      "Matrice de confusion : \n",
      "\n",
      "[[ 281  323]\n",
      " [ 217 1367]]\n",
      ".........................\n",
      "MLP :\n",
      "Precision :  0.8288393903868698\n",
      "Rappel :  0.8926767676767676\n",
      "Accuracy :  0.7888482632541134\n",
      "Matrice de confusion : \n",
      "\n",
      "[[ 312  292]\n",
      " [ 170 1414]]\n"
     ]
    }
   ],
   "source": [
    "pca=PCA(n_components=3)\n",
    "pca.fit(Xtrain_normalise)\n",
    "Xtrain_pca=np.concatenate((Xtrain_min_max,pca.transform(Xtrain_min_max)),axis=1)\n",
    "Xtest_pca=np.concatenate((Xtest_min_max,pca.transform(Xtest_min_max)),axis=1)\n",
    "\n",
    "print(\"Arbre de décision :\")\n",
    "evaluation_classification(DT, Xtrain_pca,Xtest_pca,Ytrain,Ytest)\n",
    "print('.........................')\n",
    "print(\"KNN :\")\n",
    "evaluation_classification(KNN, Xtrain_pca,Xtest_pca,Ytrain,Ytest)\n",
    "print('.........................')\n",
    "print(\"MLP :\")\n",
    "evaluation_classification(MLP, Xtrain_pca,Xtest_pca,Ytrain,Ytest)"
   ]
  },
  {
   "cell_type": "markdown",
   "id": "8d5b0ebc",
   "metadata": {},
   "source": [
    "L'ajout de nouvelles variables à partir de combinaisons linéaires des différentes variables est partiquement sans effet sur les performances des différents modèles."
   ]
  },
  {
   "cell_type": "markdown",
   "id": "1ee6d59e",
   "metadata": {},
   "source": [
    "### 4- Sélection de variables :"
   ]
  },
  {
   "cell_type": "code",
   "execution_count": 25,
   "id": "43340a8c",
   "metadata": {},
   "outputs": [
    {
     "name": "stdout",
     "output_type": "stream",
     "text": [
      "Index(['Income', 'Seniority', 'Price', 'Amount', 'Age', 'Assets', 'Expenses',\n",
      "       'Records', 'Time', 'Job', 'Debt', 'Home', 'Marital'],\n",
      "      dtype='object')\n"
     ]
    },
    {
     "data": {
      "image/png": "[encoded data removed]",
      "text/plain": [
       "<Figure size 432x288 with 1 Axes>"
      ]
     },
     "metadata": {
      "needs_background": "light"
     },
     "output_type": "display_data"
    }
   ],
   "source": [
    "from sklearn.ensemble import RandomForestClassifier\n",
    "\n",
    "nom_cols=credit.columns\n",
    "\n",
    "clf = RandomForestClassifier(n_estimators=100)\n",
    "clf.fit(Xtrain_normalise, Ytrain)\n",
    "importances=clf.feature_importances_\n",
    "std = np.std([tree.feature_importances_ for tree in clf.estimators_],axis=0)\n",
    "sorted_idx = np.argsort(importances)[::-1]\n",
    "features = nom_cols\n",
    "\n",
    "print(features[sorted_idx])\n",
    "\n",
    "\n",
    "padding = np.arange(Xtrain_normalise.size/len(Xtrain_normalise)) + 0.5\n",
    "plt.barh(padding, importances[sorted_idx],xerr=std[sorted_idx], align='center')\n",
    "plt.yticks(padding, features[sorted_idx])\n",
    "plt.xlabel(\"Relative Importance\")\n",
    "plt.title(\"Variable Importance\")\n",
    "plt.show()"
   ]
  },
  {
   "cell_type": "code",
   "execution_count": 26,
   "id": "358a1395",
   "metadata": {},
   "outputs": [
    {
     "data": {
      "image/png": "[encoded data removed]",
      "text/plain": [
       "<Figure size 432x288 with 1 Axes>"
      ]
     },
     "metadata": {
      "needs_background": "light"
     },
     "output_type": "display_data"
    }
   ],
   "source": [
    "KNN=KNeighborsClassifier(n_neighbors=5)\n",
    "scores=np.zeros(Xtrain_min_max.shape[1]+1)\n",
    "for f in np.arange(0, Xtrain_min_max.shape[1]+1):\n",
    "    X1_f = Xtrain_min_max[:,sorted_idx[:f+1]]\n",
    "    X2_f = Xtest_min_max[:,sorted_idx[:f+1]]\n",
    "    KNN.fit(X1_f,Ytrain)\n",
    "    YKNN=KNN.predict(X2_f)\n",
    "    scores[f]=np.round(accuracy_score(Ytest,YKNN),3)\n",
    "plt.plot(scores)\n",
    "plt.xlabel(\"Nombre de Variables\")\n",
    "plt.ylabel(\"Accuracy\")\n",
    "plt.title(\"Evolution de l'accuracy en fonction des variables\")\n",
    "plt.show()"
   ]
  },
  {
   "cell_type": "markdown",
   "id": "8edb016e",
   "metadata": {},
   "source": [
    "A partir du graphe ci-dessous, on voit qu'on obtient la meuilleure accuracy pour un nombre de variables égale à 7 variables.\n",
    "On va donc garder les 7 variables les plus importantes en utilisant le plot d'avant.\n",
    "\n",
    "On va garder les variables suivantes :                             \n",
    "    Income                                                    \n",
    "    Seniority                                                   \n",
    "    Price                                                          \n",
    "    Amount                                                    \n",
    "    Age                                                          \n",
    "    Assets                                                             \n",
    "    Expenses"
   ]
  },
  {
   "cell_type": "markdown",
   "id": "53c87d58",
   "metadata": {},
   "source": [
    "### 6- Paramétrage des classifieurs :"
   ]
  },
  {
   "cell_type": "code",
   "execution_count": 27,
   "id": "1dc66c82",
   "metadata": {},
   "outputs": [
    {
     "name": "stdout",
     "output_type": "stream",
     "text": [
      "Fitting 10 folds for each of 190 candidates, totalling 1900 fits\n",
      "Paramètres optimals : {'criterion': 'gini', 'max_depth': 4, 'min_samples_split': 2}\n"
     ]
    }
   ],
   "source": [
    "DT = DecisionTreeClassifier(random_state=1)\n",
    "\n",
    "DT_param= {'criterion':['gini','entropy'],'max_depth':[3,4,5,6,7,8,9,10,11,12,15,20,30,40,50,70,90,120,150], 'min_samples_split': [2,3,4,5,6]}\n",
    "\n",
    "grid = GridSearchCV(DT, DT_param, cv=10, scoring='accuracy', return_train_score=False,verbose=1 )\n",
    "\n",
    "\n",
    "grid_search=grid.fit(Xtrain_min_max, Ytrain)\n",
    "print('Paramètres optimals :' , grid_search.best_params_)"
   ]
  },
  {
   "cell_type": "markdown",
   "id": "80aac6f3",
   "metadata": {},
   "source": [
    "#### Evaluation du modèle après tunning des paramètres"
   ]
  },
  {
   "cell_type": "code",
   "execution_count": 28,
   "id": "a16f8e92",
   "metadata": {},
   "outputs": [
    {
     "name": "stdout",
     "output_type": "stream",
     "text": [
      "Precision :  0.8188745603751465\n",
      "Rappel :  0.8819444444444444\n",
      "Accuracy :  0.773308957952468\n",
      "Matrice de confusion : \n",
      "\n",
      "[[ 295  309]\n",
      " [ 187 1397]]\n"
     ]
    }
   ],
   "source": [
    "DT_optimal = KNeighborsClassifier(n_neighbors=13)\n",
    "evaluation_classification(DT_optimal, Xtrain_min_max,Xtest_min_max,Ytrain,Ytest)"
   ]
  },
  {
   "cell_type": "markdown",
   "id": "01feed73",
   "metadata": {},
   "source": [
    "### KNN"
   ]
  },
  {
   "cell_type": "code",
   "execution_count": 29,
   "id": "4e2937f9",
   "metadata": {},
   "outputs": [
    {
     "name": "stdout",
     "output_type": "stream",
     "text": [
      "Fitting 10 folds for each of 19 candidates, totalling 190 fits\n",
      "Paramètre optimal : {'n_neighbors': 13}\n"
     ]
    }
   ],
   "source": [
    "kNN = KNeighborsClassifier()\n",
    "\n",
    "KNN_param = dict(n_neighbors=list(range(1, 20)))\n",
    "\n",
    "grid = GridSearchCV(KNN, KNN_param, cv=10, scoring='accuracy', return_train_score=False,verbose=1)\n",
    "\n",
    "\n",
    "grid_search=grid.fit(Xtrain_min_max, Ytrain)\n",
    "print('Paramètre optimal :' , grid_search.best_params_)"
   ]
  },
  {
   "cell_type": "markdown",
   "id": "53b64958",
   "metadata": {},
   "source": [
    "#### Evaluation du modèle après tunning des paramètres"
   ]
  },
  {
   "cell_type": "code",
   "execution_count": 30,
   "id": "0cf52857",
   "metadata": {},
   "outputs": [
    {
     "name": "stdout",
     "output_type": "stream",
     "text": [
      "Precision :  0.8188745603751465\n",
      "Rappel :  0.8819444444444444\n",
      "Accuracy :  0.773308957952468\n",
      "Matrice de confusion : \n",
      "\n",
      "[[ 295  309]\n",
      " [ 187 1397]]\n"
     ]
    }
   ],
   "source": [
    "KNN_optimal = KNeighborsClassifier(n_neighbors=13)\n",
    "evaluation_classification(KNN_optimal, Xtrain_min_max,Xtest_min_max,Ytrain,Ytest)"
   ]
  },
  {
   "cell_type": "markdown",
   "id": "defa1535",
   "metadata": {},
   "source": [
    "### MLP"
   ]
  },
  {
   "cell_type": "code",
   "execution_count": 31,
   "id": "9bd8e352",
   "metadata": {},
   "outputs": [
    {
     "name": "stdout",
     "output_type": "stream",
     "text": [
      "Fitting 10 folds for each of 9 candidates, totalling 90 fits\n",
      "Paramètre optimal : {'hidden_layer_sizes': (20, 20)}\n"
     ]
    }
   ],
   "source": [
    "MLP = MLPClassifier(hidden_layer_sizes = (40,20), random_state = 1)\n",
    "\n",
    "MLP_param = {'hidden_layer_sizes':[(50,20),(50,30),(50,40),(50,50),(40,20),(40,30),(40,40),(30,20),(20,20)]}\n",
    "\n",
    "grid = GridSearchCV(MLP, MLP_param, cv=10, scoring='accuracy', return_train_score=False,verbose=1 )\n",
    "\n",
    "grid_search=grid.fit(Xtrain_min_max, Ytrain)\n",
    "print('Paramètre optimal :' , grid_search.best_params_)"
   ]
  },
  {
   "cell_type": "markdown",
   "id": "9cc4a001",
   "metadata": {},
   "source": [
    "#### Evaluation du modèle après tunning des paramètres"
   ]
  },
  {
   "cell_type": "code",
   "execution_count": 32,
   "id": "37f18989",
   "metadata": {},
   "outputs": [
    {
     "name": "stdout",
     "output_type": "stream",
     "text": [
      "Precision :  0.8233601841196778\n",
      "Rappel :  0.9034090909090909\n",
      "Accuracy :  0.7897623400365631\n",
      "Matrice de confusion : \n",
      "\n",
      "[[ 297  307]\n",
      " [ 153 1431]]\n"
     ]
    }
   ],
   "source": [
    "MLP_optimal = MLPClassifier(hidden_layer_sizes = (20,20), random_state = 1)\n",
    "evaluation_classification(MLP_optimal , Xtrain_min_max,Xtest_min_max,Ytrain,Ytest)"
   ]
  },
  {
   "cell_type": "markdown",
   "id": "49c9dccd",
   "metadata": {},
   "source": [
    "### 7- Création d’un pipeline :"
   ]
  },
  {
   "cell_type": "code",
   "execution_count": 33,
   "id": "0642fb1a",
   "metadata": {},
   "outputs": [],
   "source": [
    "pipeline = Pipeline(memory=None,steps=[\n",
    "    ('MinMax', MinMaxScaler()),\n",
    "    ('FU', FeatureUnion( [ ('MinMax', MinMaxScaler()), ('pca', PCA()) ] )), \n",
    "    ('clf', DecisionTreeClassifier(random_state=1))] )\n",
    "pipeline.fit(Xtrain, Ytrain)\n",
    "pickle.dump(pipeline, open('pipeline', 'wb'))"
   ]
  },
  {
   "cell_type": "code",
   "execution_count": 34,
   "id": "725e2062",
   "metadata": {},
   "outputs": [
    {
     "name": "stdout",
     "output_type": "stream",
     "text": [
      "Precision :  0.8135922330097087\n",
      "Rappel :  0.7935606060606061\n",
      "Accuracy :  0.7189213893967094\n",
      "Matrice de confusion : \n",
      "\n",
      "[[ 316  288]\n",
      " [ 327 1257]]\n"
     ]
    }
   ],
   "source": [
    "loaded_model = pickle.load(open('pipeline', 'rb'))\n",
    "evaluation_classification(loaded_model, Xtrain,Xtest, Ytrain, Ytest)"
   ]
  },
  {
   "cell_type": "markdown",
   "id": "69386bfa",
   "metadata": {},
   "source": [
    "### 8- Comparaison de plusieurs algorithmes d’apprentissage :"
   ]
  },
  {
   "cell_type": "code",
   "execution_count": 35,
   "id": "82d1f7f5",
   "metadata": {},
   "outputs": [],
   "source": [
    "\n",
    "#Définition des différents modèles d'apprentissage\n",
    "clfs = {\n",
    "    'NBayes': GaussianNB(),\n",
    "    'CART': DecisionTreeClassifier(),\n",
    "    'ID3': DecisionTreeClassifier(criterion = \"entropy\"),\n",
    "    'MLP': MLPClassifier(hidden_layer_sizes=(20,10),max_iter=1000),\n",
    "    'RF': RandomForestClassifier(n_estimators=50),\n",
    "    'KNN': KNeighborsClassifier(n_neighbors=5),\n",
    "    'Bagging': BaggingClassifier(n_estimators=50),\n",
    "    'Adaboost':AdaBoostClassifier(n_estimators=50),\n",
    "      }\n",
    "\n"
   ]
  },
  {
   "cell_type": "code",
   "execution_count": 96,
   "id": "d7a1880a",
   "metadata": {},
   "outputs": [],
   "source": [
    "def  run_classifiers(clfs, X, Y):\n",
    "    min_max = MinMaxScaler()\n",
    "    min_max.fit(X)\n",
    "\n",
    "    X= min_max.transform(X)\n",
    "\n",
    "    result=dict()\n",
    "    kf = KFold(n_splits=10, shuffle=True, random_state=0)\n",
    "    for i in clfs:\n",
    "        init_time = time.time()\n",
    "        clf = clfs[i]\n",
    "        clf = clf.fit(X, Y)\n",
    "\n",
    "        cv_acc = cross_val_score(clf, X, Y, cv=kf)\n",
    "        cv_auc = cross_val_score(estimator=clf,X=X,y=Y,cv=kf,scoring=make_scorer(roc_auc_score))\n",
    "        cv_precision = cross_val_score(estimator=clf,X=X,y=Y,cv=kf,scoring=make_scorer(precision_score))\n",
    "\n",
    "        time_taken = time.time() - init_time\n",
    "\n",
    "        print(\"Accuracy for {0} is: {1:.3f} +/- {2:.3f}\".format(i, np.mean(cv_acc), np.std(cv_acc)))\n",
    "        print(\"AUC for {0} is: {1:.3f} +/- {2:.3f}\".format(i, np.mean(cv_auc), np.std(cv_auc)))     \n",
    "        print(\"precision for {0} is: {1:.3f} +/- {2:.3f}\".format(i, np.mean(cv_precision), np.std(cv_precision)))   \n",
    "\n",
    "        print(\"execution time is: %s seconds\" % time_taken)\n",
    "        print('------------------------------------------- \\n')\n",
    "        result[i]=clf\n",
    "    return result  "
   ]
  },
  {
   "cell_type": "code",
   "execution_count": 37,
   "id": "6387ea83",
   "metadata": {},
   "outputs": [
    {
     "name": "stdout",
     "output_type": "stream",
     "text": [
      "Accuracy for NBayes is: 0.768 +/- 0.019\n",
      "AUC for NBayes is: 0.713 +/- 0.018\n",
      "precision for NBayes is: 0.841 +/- 0.016\n",
      "execution time is: 0.08252096176147461 seconds\n",
      "------------------------------------------- \n",
      "\n",
      "Accuracy for CART is: 0.726 +/- 0.022\n",
      "AUC for CART is: 0.649 +/- 0.027\n",
      "precision for CART is: 0.806 +/- 0.019\n",
      "execution time is: 0.607924222946167 seconds\n",
      "------------------------------------------- \n",
      "\n",
      "Accuracy for ID3 is: 0.718 +/- 0.019\n",
      "AUC for ID3 is: 0.655 +/- 0.022\n",
      "precision for ID3 is: 0.807 +/- 0.021\n",
      "execution time is: 0.7740395069122314 seconds\n",
      "------------------------------------------- \n",
      "\n",
      "Accuracy for MLP is: 0.791 +/- 0.015\n",
      "AUC for MLP is: 0.706 +/- 0.012\n",
      "precision for MLP is: 0.822 +/- 0.020\n",
      "execution time is: 91.57349109649658 seconds\n",
      "------------------------------------------- \n",
      "\n",
      "Accuracy for RF is: 0.784 +/- 0.015\n",
      "AUC for RF is: 0.698 +/- 0.019\n",
      "precision for RF is: 0.820 +/- 0.019\n",
      "execution time is: 8.27318000793457 seconds\n",
      "------------------------------------------- \n",
      "\n",
      "Accuracy for KNN is: 0.762 +/- 0.024\n",
      "AUC for KNN is: 0.677 +/- 0.028\n",
      "precision for KNN is: 0.814 +/- 0.025\n",
      "execution time is: 1.1791279315948486 seconds\n",
      "------------------------------------------- \n",
      "\n",
      "Accuracy for Bagging is: 0.773 +/- 0.016\n",
      "AUC for Bagging is: 0.700 +/- 0.016\n",
      "precision for Bagging is: 0.822 +/- 0.015\n",
      "execution time is: 21.84729242324829 seconds\n",
      "------------------------------------------- \n",
      "\n",
      "Accuracy for Adaboost is: 0.788 +/- 0.016\n",
      "AUC for Adaboost is: 0.698 +/- 0.021\n",
      "precision for Adaboost is: 0.823 +/- 0.018\n",
      "execution time is: 5.873148441314697 seconds\n",
      "------------------------------------------- \n",
      "\n"
     ]
    },
    {
     "data": {
      "text/plain": [
       "{'NBayes': GaussianNB(),\n",
       " 'CART': DecisionTreeClassifier(),\n",
       " 'ID3': DecisionTreeClassifier(criterion='entropy'),\n",
       " 'MLP': MLPClassifier(hidden_layer_sizes=(20, 10), max_iter=1000),\n",
       " 'RF': RandomForestClassifier(n_estimators=50),\n",
       " 'KNN': KNeighborsClassifier(),\n",
       " 'Bagging': BaggingClassifier(n_estimators=50),\n",
       " 'Adaboost': AdaBoostClassifier()}"
      ]
     },
     "execution_count": 37,
     "metadata": {},
     "output_type": "execute_result"
    }
   ],
   "source": [
    " run_classifiers(clfs, X, Y)"
   ]
  },
  {
   "cell_type": "markdown",
   "id": "4d436ab0",
   "metadata": {},
   "source": [
    "### Intérprétation des résultats \n"
   ]
  },
  {
   "cell_type": "markdown",
   "id": "f8f023af",
   "metadata": {},
   "source": [
    "Comparaison des classifieurs pour le nombre de folds fixé en 10 :\n",
    "\n",
    "En comparant les performances des différents modèles, on peut remarquer que les modèles les plus performants sont le RF et le MLP. En terme de temps d'exécution, on voit que le naive de Bayes a le plus faible temps d'éxecution.\n",
    "\n",
    "Si on veut trouver un compromis entre les différents critéres temps d'éxecution, accuracy et AUC, le RF semble être le meuilleur choix."
   ]
  },
  {
   "cell_type": "markdown",
   "id": "0a2fec5b",
   "metadata": {},
   "source": [
    "## II. Apprentissage supervisé : Données hétérogènes"
   ]
  },
  {
   "cell_type": "markdown",
   "id": "b0b0edd7",
   "metadata": {},
   "source": [
    "### 1 - Chargement des données et préparation "
   ]
  },
  {
   "cell_type": "code",
   "execution_count": 38,
   "id": "56a42aa7",
   "metadata": {},
   "outputs": [
    {
     "name": "stdout",
     "output_type": "stream",
     "text": [
      "<class 'pandas.core.frame.DataFrame'>\n",
      "RangeIndex: 688 entries, 0 to 687\n",
      "Data columns (total 16 columns):\n",
      " #   Column  Non-Null Count  Dtype  \n",
      "---  ------  --------------  -----  \n",
      " 0   0       688 non-null    object \n",
      " 1   1       688 non-null    object \n",
      " 2   2       688 non-null    float64\n",
      " 3   3       688 non-null    object \n",
      " 4   4       688 non-null    object \n",
      " 5   5       688 non-null    object \n",
      " 6   6       688 non-null    object \n",
      " 7   7       688 non-null    float64\n",
      " 8   8       688 non-null    object \n",
      " 9   9       688 non-null    object \n",
      " 10  10      688 non-null    int64  \n",
      " 11  11      688 non-null    object \n",
      " 12  12      688 non-null    object \n",
      " 13  13      688 non-null    object \n",
      " 14  14      688 non-null    int64  \n",
      " 15  15      688 non-null    object \n",
      "dtypes: float64(2), int64(2), object(12)\n",
      "memory usage: 86.1+ KB\n",
      "None\n",
      "  0      1      2  3  4  5  6     7  8  9   10 11 12   13   14 15\n",
      "0  b  30.83  0.000  u  g  w  v  1.25  t  t   1  f  g  202    0  +\n",
      "1  a  58.67  4.460  u  g  q  h  3.04  t  t   6  f  g   43  560  +\n",
      "2  a  24.50  0.500  u  g  q  h  1.50  t  f   0  f  g  280  824  +\n",
      "3  b  27.83  1.540  u  g  w  v  3.75  t  t   5  t  g  100    3  +\n",
      "4  b  20.17  5.625  u  g  w  v  1.71  t  f   0  f  s  120    0  +\n"
     ]
    }
   ],
   "source": [
    "credit_partie2 = pd.read_csv(r\"C:\\Users\\ghofr\\OneDrive\\Bureau\\TP-AS\\TP AS\\credit.data\", sep='\\t', header=None)\n",
    "print(credit_partie2.info())\n",
    "print(credit_partie2.head())\n",
    "credit1 = credit_partie2.to_numpy()\n",
    "Xcredit, Ycredit = credit1[:,:-1],credit1[:,-1]"
   ]
  },
  {
   "cell_type": "code",
   "execution_count": 39,
   "id": "f012c822",
   "metadata": {},
   "outputs": [
    {
     "name": "stdout",
     "output_type": "stream",
     "text": [
      "La taille de X :  (666, 6)\n",
      "La taille de Y :  (666,)\n"
     ]
    }
   ],
   "source": [
    "\n",
    "Xcredit_num = Xcredit[:,[1,2,7,10,13,14]]\n",
    "\n",
    "Xcredit_num[Xcredit_num==\"?\"] = np.nan\n",
    "Xcredit_num = Xcredit_num.astype(float)\n",
    "to_keep = ~np.isnan(Xcredit_num).any(axis=1)\n",
    "Xcredit_num  = Xcredit_num [to_keep]\n",
    "Ycredit = Ycredit[to_keep]\n",
    "\n",
    "print(\"La taille de X : \", Xcredit_num.shape)\n",
    "print(\"La taille de Y : \", Ycredit.shape)"
   ]
  },
  {
   "cell_type": "code",
   "execution_count": 40,
   "id": "75d8e66d",
   "metadata": {},
   "outputs": [
    {
     "data": {
      "text/plain": [
       "(array([299., 367.]),\n",
       " array([0. , 0.5, 1. ]),\n",
       " <BarContainer object of 2 artists>)"
      ]
     },
     "execution_count": 40,
     "metadata": {},
     "output_type": "execute_result"
    },
    {
     "data": {
      "image/png": "[encoded data removed]",
      "text/plain": [
       "<Figure size 432x288 with 1 Axes>"
      ]
     },
     "metadata": {
      "needs_background": "light"
     },
     "output_type": "display_data"
    }
   ],
   "source": [
    "plt.hist(Ycredit, bins=2)"
   ]
  },
  {
   "cell_type": "code",
   "execution_count": 41,
   "id": "6875e9a5",
   "metadata": {},
   "outputs": [],
   "source": [
    "#Binairisation target\n",
    "\n",
    "Ycredit[Ycredit=='+'] = 1\n",
    "Ycredit[Ycredit=='-'] = 0\n",
    "Ycredit = Ycredit.astype(float)\n"
   ]
  },
  {
   "cell_type": "code",
   "execution_count": 42,
   "id": "037cc1fc",
   "metadata": {},
   "outputs": [
    {
     "name": "stdout",
     "output_type": "stream",
     "text": [
      "Accuracy for NBayes is: 0.716 +/- 0.050\n",
      "AUC for NBayes is: 0.690 +/- 0.033\n",
      "precision for NBayes is: 0.832 +/- 0.052\n",
      "execution time is: 0.048642635345458984 seconds\n",
      "------------------------------------------- \n",
      "\n",
      "Accuracy for CART is: 0.715 +/- 0.047\n",
      "AUC for CART is: 0.723 +/- 0.036\n",
      "precision for CART is: 0.683 +/- 0.057\n",
      "execution time is: 0.09298515319824219 seconds\n",
      "------------------------------------------- \n",
      "\n",
      "Accuracy for ID3 is: 0.736 +/- 0.042\n",
      "AUC for ID3 is: 0.729 +/- 0.045\n",
      "precision for ID3 is: 0.698 +/- 0.064\n",
      "execution time is: 0.1431715488433838 seconds\n",
      "------------------------------------------- \n",
      "\n",
      "Accuracy for MLP is: 0.785 +/- 0.044\n",
      "AUC for MLP is: 0.765 +/- 0.052\n",
      "precision for MLP is: 0.816 +/- 0.049\n",
      "execution time is: 36.655773878097534 seconds\n",
      "------------------------------------------- \n",
      "\n",
      "Accuracy for RF is: 0.782 +/- 0.055\n",
      "AUC for RF is: 0.782 +/- 0.058\n",
      "precision for RF is: 0.789 +/- 0.048\n",
      "execution time is: 2.416154384613037 seconds\n",
      "------------------------------------------- \n",
      "\n",
      "Accuracy for KNN is: 0.737 +/- 0.070\n",
      "AUC for KNN is: 0.727 +/- 0.069\n",
      "precision for KNN is: 0.768 +/- 0.109\n",
      "execution time is: 0.13166522979736328 seconds\n",
      "------------------------------------------- \n",
      "\n",
      "Accuracy for Bagging is: 0.790 +/- 0.045\n",
      "AUC for Bagging is: 0.769 +/- 0.050\n",
      "precision for Bagging is: 0.793 +/- 0.057\n",
      "execution time is: 3.909128427505493 seconds\n",
      "------------------------------------------- \n",
      "\n",
      "Accuracy for Adaboost is: 0.770 +/- 0.063\n",
      "AUC for Adaboost is: 0.766 +/- 0.061\n",
      "precision for Adaboost is: 0.761 +/- 0.060\n",
      "execution time is: 2.6109731197357178 seconds\n",
      "------------------------------------------- \n",
      "\n"
     ]
    },
    {
     "data": {
      "text/plain": [
       "{'NBayes': GaussianNB(),\n",
       " 'CART': DecisionTreeClassifier(),\n",
       " 'ID3': DecisionTreeClassifier(criterion='entropy'),\n",
       " 'MLP': MLPClassifier(hidden_layer_sizes=(20, 10), max_iter=1000),\n",
       " 'RF': RandomForestClassifier(n_estimators=50),\n",
       " 'KNN': KNeighborsClassifier(),\n",
       " 'Bagging': BaggingClassifier(n_estimators=50),\n",
       " 'Adaboost': AdaBoostClassifier()}"
      ]
     },
     "execution_count": 42,
     "metadata": {},
     "output_type": "execute_result"
    }
   ],
   "source": [
    "run_classifiers(clfs, Xcredit_num, Ycredit)"
   ]
  },
  {
   "cell_type": "markdown",
   "id": "cb678256",
   "metadata": {},
   "source": [
    "### Normalisation des variables continues"
   ]
  },
  {
   "cell_type": "markdown",
   "id": "5a491167",
   "metadata": {},
   "source": [
    "#### StandardScaler()"
   ]
  },
  {
   "cell_type": "code",
   "execution_count": 43,
   "id": "6ef00e6b",
   "metadata": {},
   "outputs": [
    {
     "name": "stdout",
     "output_type": "stream",
     "text": [
      "Accuracy for NBayes is: 0.716 +/- 0.050\n",
      "AUC for NBayes is: 0.690 +/- 0.033\n",
      "precision for NBayes is: 0.832 +/- 0.052\n",
      "execution time is: 0.05048060417175293 seconds\n",
      "------------------------------------------- \n",
      "\n",
      "Accuracy for CART is: 0.725 +/- 0.048\n",
      "AUC for CART is: 0.719 +/- 0.041\n",
      "precision for CART is: 0.675 +/- 0.056\n",
      "execution time is: 0.09717416763305664 seconds\n",
      "------------------------------------------- \n",
      "\n",
      "Accuracy for ID3 is: 0.734 +/- 0.047\n",
      "AUC for ID3 is: 0.731 +/- 0.050\n",
      "precision for ID3 is: 0.695 +/- 0.067\n",
      "execution time is: 0.12883830070495605 seconds\n",
      "------------------------------------------- \n",
      "\n",
      "Accuracy for MLP is: 0.770 +/- 0.042\n",
      "AUC for MLP is: 0.761 +/- 0.054\n",
      "precision for MLP is: 0.789 +/- 0.059\n",
      "execution time is: 32.92701768875122 seconds\n",
      "------------------------------------------- \n",
      "\n",
      "Accuracy for RF is: 0.778 +/- 0.058\n",
      "AUC for RF is: 0.787 +/- 0.056\n",
      "precision for RF is: 0.791 +/- 0.066\n",
      "execution time is: 2.623600721359253 seconds\n",
      "------------------------------------------- \n",
      "\n",
      "Accuracy for KNN is: 0.737 +/- 0.070\n",
      "AUC for KNN is: 0.727 +/- 0.069\n",
      "precision for KNN is: 0.768 +/- 0.109\n",
      "execution time is: 0.22046542167663574 seconds\n",
      "------------------------------------------- \n",
      "\n",
      "Accuracy for Bagging is: 0.791 +/- 0.058\n",
      "AUC for Bagging is: 0.779 +/- 0.055\n",
      "precision for Bagging is: 0.787 +/- 0.051\n",
      "execution time is: 3.6275758743286133 seconds\n",
      "------------------------------------------- \n",
      "\n",
      "Accuracy for Adaboost is: 0.770 +/- 0.063\n",
      "AUC for Adaboost is: 0.766 +/- 0.061\n",
      "precision for Adaboost is: 0.761 +/- 0.060\n",
      "execution time is: 2.4766416549682617 seconds\n",
      "------------------------------------------- \n",
      "\n"
     ]
    },
    {
     "data": {
      "text/plain": [
       "{'NBayes': GaussianNB(),\n",
       " 'CART': DecisionTreeClassifier(),\n",
       " 'ID3': DecisionTreeClassifier(criterion='entropy'),\n",
       " 'MLP': MLPClassifier(hidden_layer_sizes=(20, 10), max_iter=1000),\n",
       " 'RF': RandomForestClassifier(n_estimators=50),\n",
       " 'KNN': KNeighborsClassifier(),\n",
       " 'Bagging': BaggingClassifier(n_estimators=50),\n",
       " 'Adaboost': AdaBoostClassifier()}"
      ]
     },
     "execution_count": 43,
     "metadata": {},
     "output_type": "execute_result"
    }
   ],
   "source": [
    "scaler = StandardScaler()\n",
    "scaler.fit(Xcredit_num)\n",
    "Xcredit_num_normalise = scaler.transform(Xcredit_num)\n",
    "run_classifiers(clfs, Xcredit_num_normalise, Ycredit)"
   ]
  },
  {
   "cell_type": "markdown",
   "id": "f3038164",
   "metadata": {},
   "source": [
    "#### MinMaxScaler()"
   ]
  },
  {
   "cell_type": "code",
   "execution_count": 44,
   "id": "7a2b7c46",
   "metadata": {},
   "outputs": [
    {
     "name": "stdout",
     "output_type": "stream",
     "text": [
      "Accuracy for NBayes is: 0.716 +/- 0.050\n",
      "AUC for NBayes is: 0.690 +/- 0.033\n",
      "precision for NBayes is: 0.832 +/- 0.052\n",
      "execution time is: 0.058805227279663086 seconds\n",
      "------------------------------------------- \n",
      "\n",
      "Accuracy for CART is: 0.724 +/- 0.047\n",
      "AUC for CART is: 0.721 +/- 0.046\n",
      "precision for CART is: 0.697 +/- 0.053\n",
      "execution time is: 0.11060094833374023 seconds\n",
      "------------------------------------------- \n",
      "\n",
      "Accuracy for ID3 is: 0.736 +/- 0.048\n",
      "AUC for ID3 is: 0.732 +/- 0.038\n",
      "precision for ID3 is: 0.705 +/- 0.067\n",
      "execution time is: 0.10665392875671387 seconds\n",
      "------------------------------------------- \n",
      "\n",
      "Accuracy for MLP is: 0.770 +/- 0.039\n",
      "AUC for MLP is: 0.781 +/- 0.038\n",
      "precision for MLP is: 0.814 +/- 0.039\n",
      "execution time is: 32.65423512458801 seconds\n",
      "------------------------------------------- \n",
      "\n",
      "Accuracy for RF is: 0.790 +/- 0.064\n",
      "AUC for RF is: 0.767 +/- 0.045\n",
      "precision for RF is: 0.803 +/- 0.046\n",
      "execution time is: 2.830063819885254 seconds\n",
      "------------------------------------------- \n",
      "\n",
      "Accuracy for KNN is: 0.737 +/- 0.070\n",
      "AUC for KNN is: 0.727 +/- 0.069\n",
      "precision for KNN is: 0.768 +/- 0.109\n",
      "execution time is: 0.14261651039123535 seconds\n",
      "------------------------------------------- \n",
      "\n",
      "Accuracy for Bagging is: 0.772 +/- 0.052\n",
      "AUC for Bagging is: 0.769 +/- 0.046\n",
      "precision for Bagging is: 0.766 +/- 0.054\n",
      "execution time is: 3.7269232273101807 seconds\n",
      "------------------------------------------- \n",
      "\n",
      "Accuracy for Adaboost is: 0.770 +/- 0.063\n",
      "AUC for Adaboost is: 0.766 +/- 0.061\n",
      "precision for Adaboost is: 0.761 +/- 0.060\n",
      "execution time is: 2.4127931594848633 seconds\n",
      "------------------------------------------- \n",
      "\n"
     ]
    },
    {
     "data": {
      "text/plain": [
       "{'NBayes': GaussianNB(),\n",
       " 'CART': DecisionTreeClassifier(),\n",
       " 'ID3': DecisionTreeClassifier(criterion='entropy'),\n",
       " 'MLP': MLPClassifier(hidden_layer_sizes=(20, 10), max_iter=1000),\n",
       " 'RF': RandomForestClassifier(n_estimators=50),\n",
       " 'KNN': KNeighborsClassifier(),\n",
       " 'Bagging': BaggingClassifier(n_estimators=50),\n",
       " 'Adaboost': AdaBoostClassifier()}"
      ]
     },
     "execution_count": 44,
     "metadata": {},
     "output_type": "execute_result"
    }
   ],
   "source": [
    "scaler_min_max = MinMaxScaler()\n",
    "scaler_min_max.fit(Xcredit_num)\n",
    "Xcredit_num_normalise_minmax = scaler_min_max.transform(Xcredit_num)\n",
    "run_classifiers(clfs, Xcredit_num_normalise_minmax, Ycredit)"
   ]
  },
  {
   "cell_type": "raw",
   "id": "05e44335",
   "metadata": {},
   "source": [
    "La normalisation des données permet d'améliorer les performances des différents classifeurs."
   ]
  },
  {
   "cell_type": "markdown",
   "id": "b59c5ea9",
   "metadata": {},
   "source": [
    "### Utilisation de la totalité de la base originale :"
   ]
  },
  {
   "cell_type": "markdown",
   "id": "e608b999",
   "metadata": {},
   "source": [
    "#### Traitement des données manquantes :"
   ]
  },
  {
   "cell_type": "code",
   "execution_count": 45,
   "id": "9b3b8ced",
   "metadata": {},
   "outputs": [],
   "source": [
    "Xcredit_cat =  Xcredit[:,[0,3,4,5,6,8,9,11,12]]\n",
    "#Variables catégorielles\n",
    "col_cat = [0,3,4,5,6,8,9,11,12]\n",
    "for col_id in range(len(col_cat)):\n",
    "  unique_val, val_idx = np.unique(Xcredit_cat[:, col_id], return_inverse=True)\n",
    "  Xcredit_cat[:, col_id] = val_idx\n",
    "imp_cat = SimpleImputer(missing_values=0, strategy='most_frequent')\n",
    "Xcredit_cat[:, range(5)] = imp_cat.fit_transform(Xcredit_cat[:, range(5)])\n",
    "\n",
    "\n",
    "#Variables numériques\n",
    "X_num = np.copy(Xcredit[:, [1,2,7,10,13,14]])\n",
    "X_num[X_num == '?'] = np.nan\n",
    "X_num = X_num.astype(float)\n",
    "imp_num = SimpleImputer(missing_values=np.nan, strategy='mean')\n",
    "X_num = imp_num.fit_transform(X_num)\n"
   ]
  },
  {
   "cell_type": "markdown",
   "id": "3621e553",
   "metadata": {},
   "source": [
    "#### Traitement de variables catégoriques :"
   ]
  },
  {
   "cell_type": "code",
   "execution_count": 46,
   "id": "3966ef40",
   "metadata": {},
   "outputs": [
    {
     "data": {
      "text/plain": [
       "688"
      ]
     },
     "execution_count": 46,
     "metadata": {},
     "output_type": "execute_result"
    }
   ],
   "source": [
    "X_cat_bin = OneHotEncoder().fit_transform(Xcredit_cat).toarray()\n",
    "len(X_cat_bin)"
   ]
  },
  {
   "cell_type": "markdown",
   "id": "cf8338ba",
   "metadata": {},
   "source": [
    "#### Construction de votre jeu de données :"
   ]
  },
  {
   "cell_type": "code",
   "execution_count": 47,
   "id": "8060d88a",
   "metadata": {},
   "outputs": [
    {
     "name": "stdout",
     "output_type": "stream",
     "text": [
      "Accuracy for NBayes is: 0.714 +/- 0.053\n",
      "AUC for NBayes is: 0.684 +/- 0.065\n",
      "precision for NBayes is: 0.868 +/- 0.105\n",
      "execution time is: 0.07596087455749512 seconds\n",
      "------------------------------------------- \n",
      "\n",
      "Accuracy for CART is: 0.798 +/- 0.047\n",
      "AUC for CART is: 0.799 +/- 0.054\n",
      "precision for CART is: 0.787 +/- 0.064\n",
      "execution time is: 0.1484372615814209 seconds\n",
      "------------------------------------------- \n",
      "\n",
      "Accuracy for ID3 is: 0.817 +/- 0.041\n",
      "AUC for ID3 is: 0.811 +/- 0.040\n",
      "precision for ID3 is: 0.796 +/- 0.057\n",
      "execution time is: 0.14345765113830566 seconds\n",
      "------------------------------------------- \n",
      "\n",
      "Accuracy for MLP is: 0.845 +/- 0.040\n",
      "AUC for MLP is: 0.829 +/- 0.054\n",
      "precision for MLP is: 0.830 +/- 0.067\n",
      "execution time is: 45.65630316734314 seconds\n",
      "------------------------------------------- \n",
      "\n",
      "Accuracy for RF is: 0.872 +/- 0.031\n",
      "AUC for RF is: 0.872 +/- 0.047\n",
      "precision for RF is: 0.850 +/- 0.052\n",
      "execution time is: 2.4658868312835693 seconds\n",
      "------------------------------------------- \n",
      "\n",
      "Accuracy for KNN is: 0.863 +/- 0.052\n",
      "AUC for KNN is: 0.864 +/- 0.054\n",
      "precision for KNN is: 0.849 +/- 0.064\n",
      "execution time is: 0.12288379669189453 seconds\n",
      "------------------------------------------- \n",
      "\n",
      "Accuracy for Bagging is: 0.878 +/- 0.035\n",
      "AUC for Bagging is: 0.874 +/- 0.040\n",
      "precision for Bagging is: 0.859 +/- 0.048\n",
      "execution time is: 4.827319145202637 seconds\n",
      "------------------------------------------- \n",
      "\n",
      "Accuracy for Adaboost is: 0.844 +/- 0.037\n",
      "AUC for Adaboost is: 0.846 +/- 0.035\n",
      "precision for Adaboost is: 0.814 +/- 0.069\n",
      "execution time is: 2.9934628009796143 seconds\n",
      "------------------------------------------- \n",
      "\n"
     ]
    },
    {
     "data": {
      "text/plain": [
       "{'NBayes': GaussianNB(),\n",
       " 'CART': DecisionTreeClassifier(),\n",
       " 'ID3': DecisionTreeClassifier(criterion='entropy'),\n",
       " 'MLP': MLPClassifier(hidden_layer_sizes=(20, 10), max_iter=1000),\n",
       " 'RF': RandomForestClassifier(n_estimators=50),\n",
       " 'KNN': KNeighborsClassifier(),\n",
       " 'Bagging': BaggingClassifier(n_estimators=50),\n",
       " 'Adaboost': AdaBoostClassifier()}"
      ]
     },
     "execution_count": 47,
     "metadata": {},
     "output_type": "execute_result"
    }
   ],
   "source": [
    "X_final = np.concatenate((X_num, X_cat_bin), axis=1)\n",
    "Ycredit = credit1[:,-1]\n",
    "Ycredit[Ycredit=='+'] = 1\n",
    "Ycredit[Ycredit=='-'] = 0\n",
    "Ycredit = Ycredit.astype(float)\n",
    "run_classifiers(clfs, X_final,Ycredit)"
   ]
  },
  {
   "cell_type": "markdown",
   "id": "a880ca31",
   "metadata": {},
   "source": [
    "Conclusion:\n",
    "    On voit que l'utilisation de l'intégralité de l'information, les données numériques et les donnéees catégoriques permettent d'obtenir de meuilleurs performances pour pratiquement tous les modèles."
   ]
  },
  {
   "cell_type": "markdown",
   "id": "2700fc48",
   "metadata": {},
   "source": [
    "### III. Apprentissage supervisé sur des données textuelles : Feature engineering et Classification"
   ]
  },
  {
   "cell_type": "code",
   "execution_count": 97,
   "id": "70af8bb2",
   "metadata": {},
   "outputs": [],
   "source": [
    "#Importer les données textuelles\n",
    "datatext =pd.read_csv(r\"C:\\Users\\ghofr\\OneDrive\\Bureau\\TP-AS\\TP AS\\SMSSpamCollection.data\", sep='\\t', header=None,names=['label','texte'])"
   ]
  },
  {
   "cell_type": "code",
   "execution_count": 98,
   "id": "74068854",
   "metadata": {},
   "outputs": [
    {
     "data": {
      "text/html": [
       "<div>\n",
       "<style scoped>\n",
       "    .dataframe tbody tr th:only-of-type {\n",
       "        vertical-align: middle;\n",
       "    }\n",
       "\n",
       "    .dataframe tbody tr th {\n",
       "        vertical-align: top;\n",
       "    }\n",
       "\n",
       "    .dataframe thead th {\n",
       "        text-align: right;\n",
       "    }\n",
       "</style>\n",
       "<table border=\"1\" class=\"dataframe\">\n",
       "  <thead>\n",
       "    <tr style=\"text-align: right;\">\n",
       "      <th></th>\n",
       "      <th>label</th>\n",
       "      <th>texte</th>\n",
       "    </tr>\n",
       "  </thead>\n",
       "  <tbody>\n",
       "    <tr>\n",
       "      <th>0</th>\n",
       "      <td>ham</td>\n",
       "      <td>Go until jurong point, crazy.. Available only ...</td>\n",
       "    </tr>\n",
       "    <tr>\n",
       "      <th>1</th>\n",
       "      <td>ham</td>\n",
       "      <td>Ok lar... Joking wif u oni...</td>\n",
       "    </tr>\n",
       "    <tr>\n",
       "      <th>2</th>\n",
       "      <td>spam</td>\n",
       "      <td>Free entry in 2 a wkly comp to win FA Cup fina...</td>\n",
       "    </tr>\n",
       "    <tr>\n",
       "      <th>3</th>\n",
       "      <td>ham</td>\n",
       "      <td>U dun say so early hor... U c already then say...</td>\n",
       "    </tr>\n",
       "    <tr>\n",
       "      <th>4</th>\n",
       "      <td>ham</td>\n",
       "      <td>Nah I don't think he goes to usf, he lives aro...</td>\n",
       "    </tr>\n",
       "  </tbody>\n",
       "</table>\n",
       "</div>"
      ],
      "text/plain": [
       "  label                                              texte\n",
       "0   ham  Go until jurong point, crazy.. Available only ...\n",
       "1   ham                      Ok lar... Joking wif u oni...\n",
       "2  spam  Free entry in 2 a wkly comp to win FA Cup fina...\n",
       "3   ham  U dun say so early hor... U c already then say...\n",
       "4   ham  Nah I don't think he goes to usf, he lives aro..."
      ]
     },
     "execution_count": 98,
     "metadata": {},
     "output_type": "execute_result"
    }
   ],
   "source": [
    "#data exploration\n",
    "datatext.head()"
   ]
  },
  {
   "cell_type": "code",
   "execution_count": 100,
   "id": "1804a020",
   "metadata": {},
   "outputs": [
    {
     "data": {
      "text/html": [
       "<div>\n",
       "<style scoped>\n",
       "    .dataframe tbody tr th:only-of-type {\n",
       "        vertical-align: middle;\n",
       "    }\n",
       "\n",
       "    .dataframe tbody tr th {\n",
       "        vertical-align: top;\n",
       "    }\n",
       "\n",
       "    .dataframe thead th {\n",
       "        text-align: right;\n",
       "    }\n",
       "</style>\n",
       "<table border=\"1\" class=\"dataframe\">\n",
       "  <thead>\n",
       "    <tr style=\"text-align: right;\">\n",
       "      <th></th>\n",
       "      <th>label</th>\n",
       "      <th>texte</th>\n",
       "    </tr>\n",
       "  </thead>\n",
       "  <tbody>\n",
       "    <tr>\n",
       "      <th>count</th>\n",
       "      <td>5572</td>\n",
       "      <td>5572</td>\n",
       "    </tr>\n",
       "    <tr>\n",
       "      <th>unique</th>\n",
       "      <td>2</td>\n",
       "      <td>5169</td>\n",
       "    </tr>\n",
       "    <tr>\n",
       "      <th>top</th>\n",
       "      <td>ham</td>\n",
       "      <td>Sorry, I'll call later</td>\n",
       "    </tr>\n",
       "    <tr>\n",
       "      <th>freq</th>\n",
       "      <td>4825</td>\n",
       "      <td>30</td>\n",
       "    </tr>\n",
       "  </tbody>\n",
       "</table>\n",
       "</div>"
      ],
      "text/plain": [
       "       label                   texte\n",
       "count   5572                    5572\n",
       "unique     2                    5169\n",
       "top      ham  Sorry, I'll call later\n",
       "freq    4825                      30"
      ]
     },
     "execution_count": 100,
     "metadata": {},
     "output_type": "execute_result"
    }
   ],
   "source": [
    "datatext.describe()"
   ]
  },
  {
   "cell_type": "code",
   "execution_count": 101,
   "id": "238062c3",
   "metadata": {},
   "outputs": [],
   "source": [
    "datatext['label'].unique()\n",
    "datatext['label'] = datatext['label'].apply(func= lambda y:1 if y == 'spam' else 0)\n",
    "# no need for X or Y to be arrays\n",
    "texte_sms = datatext['texte']\n",
    "classe_sms = datatext['label']"
   ]
  },
  {
   "cell_type": "markdown",
   "id": "025103a3",
   "metadata": {},
   "source": [
    "### CountVectorizer"
   ]
  },
  {
   "cell_type": "code",
   "execution_count": 102,
   "id": "4f5a4362",
   "metadata": {},
   "outputs": [
    {
     "name": "stdout",
     "output_type": "stream",
     "text": [
      "5572\n",
      "5572\n"
     ]
    }
   ],
   "source": [
    "vectorizer = CountVectorizer(min_df=3, stop_words='english')\n",
    "X = vectorizer.fit_transform(texte_sms)\n",
    "X1 = X.toarray()\n",
    "print(len(X1))\n",
    "print(len(classe_sms))\n"
   ]
  },
  {
   "cell_type": "code",
   "execution_count": null,
   "id": "1469d734",
   "metadata": {},
   "outputs": [
    {
     "name": "stdout",
     "output_type": "stream",
     "text": [
      "Accuracy for NBayes is: 0.865 +/- 0.019\n",
      "AUC for NBayes is: 0.887 +/- 0.020\n",
      "precision for NBayes is: 0.498 +/- 0.053\n",
      "execution time is: 12.02010989189148 seconds\n",
      "------------------------------------------- \n",
      "\n",
      "Accuracy for CART is: 0.972 +/- 0.006\n",
      "AUC for CART is: 0.932 +/- 0.015\n",
      "precision for CART is: 0.912 +/- 0.024\n",
      "execution time is: 444.12999391555786 seconds\n",
      "------------------------------------------- \n",
      "\n",
      "Accuracy for ID3 is: 0.970 +/- 0.006\n",
      "AUC for ID3 is: 0.920 +/- 0.014\n",
      "precision for ID3 is: 0.917 +/- 0.017\n",
      "execution time is: 341.5788824558258 seconds\n",
      "------------------------------------------- \n",
      "\n",
      "Accuracy for MLP is: 0.986 +/- 0.004\n",
      "AUC for MLP is: 0.951 +/- 0.011\n",
      "precision for MLP is: 0.989 +/- 0.012\n",
      "execution time is: 219.112726688385 seconds\n",
      "------------------------------------------- \n",
      "\n",
      "Accuracy for RF is: 0.982 +/- 0.004\n",
      "AUC for RF is: 0.937 +/- 0.015\n",
      "precision for RF is: 0.994 +/- 0.008\n",
      "execution time is: 337.35829496383667 seconds\n",
      "------------------------------------------- \n",
      "\n",
      "Accuracy for KNN is: 0.922 +/- 0.012\n",
      "AUC for KNN is: 0.708 +/- 0.033\n",
      "precision for KNN is: 0.996 +/- 0.012\n",
      "execution time is: 7.13642692565918 seconds\n",
      "------------------------------------------- \n",
      "\n"
     ]
    }
   ],
   "source": [
    "run_classifiers(clfs,X1,classe_sms)"
   ]
  },
  {
   "cell_type": "raw",
   "id": "43cbe0fa",
   "metadata": {},
   "source": [
    "Dans le problème de classification de mail en spam, on veut diminuer les false positive FP pour ne pas rater des mails \n",
    "importants donc on veut augmenter la précision.\n",
    "Dans notre cas, le meilleur modèle est KNN."
   ]
  },
  {
   "cell_type": "markdown",
   "id": "71bbbcf2",
   "metadata": {},
   "source": [
    "## Tf–idf term weighting"
   ]
  },
  {
   "cell_type": "code",
   "execution_count": null,
   "id": "b3385c50",
   "metadata": {},
   "outputs": [],
   "source": [
    "transformer = TfidfVectorizer()"
   ]
  },
  {
   "cell_type": "code",
   "execution_count": null,
   "id": "9fb1b80b",
   "metadata": {},
   "outputs": [],
   "source": [
    "X2 = transformer.fit_transform(texte)\n",
    "X2=X2.toarray()\n",
    "print(len(X2))\n",
    "print(len(classe_sms))"
   ]
  },
  {
   "cell_type": "code",
   "execution_count": null,
   "id": "1b751e29",
   "metadata": {},
   "outputs": [],
   "source": [
    "run_classifiers(clfs,X2,classe_sms)"
   ]
  },
  {
   "cell_type": "markdown",
   "id": "de2f721a",
   "metadata": {},
   "source": [
    "## TruncatedSVD"
   ]
  },
  {
   "cell_type": "code",
   "execution_count": null,
   "id": "585c51dd",
   "metadata": {},
   "outputs": [],
   "source": [
    "svd = TruncatedSVD(n_components=5, random_state=1)\n",
    "X3 = svd.fit_transform(X2)"
   ]
  },
  {
   "cell_type": "code",
   "execution_count": null,
   "id": "bb7d17e4",
   "metadata": {},
   "outputs": [],
   "source": [
    "run_classifiers(clfs, X3, classe_sms)"
   ]
  },
  {
   "cell_type": "markdown",
   "id": "9f9de888",
   "metadata": {},
   "source": [
    "## Pipeline"
   ]
  },
  {
   "cell_type": "code",
   "execution_count": null,
   "id": "fe727381",
   "metadata": {},
   "outputs": [],
   "source": [
    "pipeline = Pipeline(memory=None,steps=[\n",
    "    ('vect',TCountVectorizer(min_df=3, stop_words='english')),\n",
    "    ('reduce_dim', TruncatedSVD(n_components=5, random_state=1)),\n",
    "    ('clf', DecisionTreeClassifier())] )"
   ]
  }
 ],
 "metadata": {
  "kernelspec": {
   "display_name": "Python 3",
   "language": "python",
   "name": "python3"
  },
  "language_info": {
   "codemirror_mode": {
    "name": "ipython",
    "version": 3
   },
   "file_extension": ".py",
   "mimetype": "text/x-python",
   "name": "python",
   "nbconvert_exporter": "python",
   "pygments_lexer": "ipython3",
   "version": "3.8.8"
  }
 },
 "nbformat": 4,
 "nbformat_minor": 5
}
